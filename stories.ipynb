{
 "cells": [
  {
   "cell_type": "code",
   "execution_count": 2,
   "metadata": {},
   "outputs": [
    {
     "name": "stdout",
     "output_type": "stream",
     "text": [
      "Titles extracted and saved to extracted_titles.txt\n"
     ]
    }
   ],
   "source": [
    "import xml.etree.ElementTree as ET\n",
    "\n",
    "# Replace this with the path to your XML file\n",
    "file_path = 'heritagelabmap.WordPress.2023-11-22.xml'\n",
    "\n",
    "\n",
    "# Initialize the XML parser and parse the XML file\n",
    "tree = ET.parse(file_path)\n",
    "root = tree.getroot()\n",
    "\n",
    "# Extracting all titles\n",
    "titles = [elem.text for elem in root.findall('.//title')]\n",
    "\n",
    "# Writing titles to a text file\n",
    "with open('extracted_titles.txt', 'w', encoding='utf-8') as file:\n",
    "    for title in titles:\n",
    "        if title:  # Check if title is not None\n",
    "            file.write(title + '\\n')\n",
    "\n",
    "print(\"Titles extracted and saved to extracted_titles.txt\")\n"
   ]
  }
 ],
 "metadata": {
  "kernelspec": {
   "display_name": "Python 3",
   "language": "python",
   "name": "python3"
  },
  "language_info": {
   "codemirror_mode": {
    "name": "ipython",
    "version": 3
   },
   "file_extension": ".py",
   "mimetype": "text/x-python",
   "name": "python",
   "nbconvert_exporter": "python",
   "pygments_lexer": "ipython3",
   "version": "3.9.9"
  }
 },
 "nbformat": 4,
 "nbformat_minor": 2
}
